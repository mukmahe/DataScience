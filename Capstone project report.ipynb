{
    "nbformat_minor": 1, 
    "cells": [
        {
            "source": "# Introduction", 
            "cell_type": "markdown", 
            "metadata": {
                "collapsed": true
            }
        }, 
        {
            "source": "Toronto is the provincial capital of Ontario and the most populous city in Canada. It is an international centre of business, finance, arts, and culture, and is recognized as one of the most multicultural and cosmopolitan cities in the world. Not only this, it is one of the most popular study destinations for the international students. Talking about the colleges, Toronto is home to a number of post-secondary institutions. There are five universities in Toronto with degree-granting authority, four of which are public university, while the other is a private seminary. In addition there are four degree- and diploma-granting colleges based in the city. Other post-secondary institutions based in Ontario have also established satellite campuses in Toronto. Other forms of post-secondary institutions in Toronto consists of private vocational schools.", 
            "cell_type": "markdown", 
            "metadata": {}
        }, 
        {
            "source": "# Business Problem ", 
            "cell_type": "markdown", 
            "metadata": {}
        }, 
        {
            "source": "When there are so many colleges in a particular city, it becomes difficult for internatonal students to choose their college. International students don't have much idea about the new city and could not decide which college will suit their needs. Ofcourse, there are so many college rankings available, but most of the colleges are not listed in those rankings as only top-notch universities are ranked by ranking organizations like QS rankings. In that case, students take into consideration some other factors to decide their college. Some of these factors are as follows:\n1. Cost of living (which includes rent and other costs)\n2. Part time job opportunites so that students can support themselves during their course.\n3. Industry interaction and internship opportunities.\n4. Exposure to Culture and fun: Students always prefer good places for hangouts and fun. Moreover, if they are not natives, they really want to experience the new culture.\n\nI might have missed some of the other factors. We can always improve on this.\n\nI will be working on this problem on a smaller scale and I will be making a k-means cluster model. I have chosen only Toronto city for this problem. At later stages, I can scale this project up to other popular study destinations among students.", 
            "cell_type": "markdown", 
            "metadata": {}
        }, 
        {
            "source": "## Assumptions:", 
            "cell_type": "markdown", 
            "metadata": {}
        }, 
        {
            "source": "My model will help students to decide a perfect college suiting thier personal needs and aspirations. It will be helpful for the students when they could not decide on \nthe basis of tution fees and college rankings.So, my model will not consider the tuition fees of the college/universities as a deciding factor. I am assuming that these\nfactors have already been considered by a student, but they couldn't help him decide.\n\nI am also assuming that student will be living in the hostel accomodation provided by the universities/colleges.", 
            "cell_type": "markdown", 
            "metadata": {}
        }, 
        {
            "source": "## Data", 
            "cell_type": "markdown", 
            "metadata": {}
        }, 
        {
            "source": "I will collect all my data from Foursquare API. I will collect the list of all colleges/universities in Torornto.\nI will be needing data for these 4 factors.\n1. Cost of living: It will be the cost of basic needs like clothing and food. I will take the average of costs of a cofee cup from top 5 cofee shops within in a radial distance of 1 km from the college. For simplicity sake, I am excluding the rent and clothing cost.\n2. Part time job opportunites so that students can support themselves during their course. For this, I will count the number of factories/industries, retail stores and restraunts/coffee shops within in a radial distance of 1 km from the college.\n3. Industry interaction and internship opportunities. For this, i will count the number of Finance and IT companies within in a radial distance of 2 km from the college.\n4. Exposure to Culture and fun: I will count the number of top-rated tourist places, bars, cofee shops and club houses within in a radial distance of 1 km from the college.\n\nFor simplicity sake, I have excluded a lot of data factors. There could be a longer list of data items to be considered.", 
            "cell_type": "markdown", 
            "metadata": {}
        }, 
        {
            "source": "", 
            "cell_type": "code", 
            "execution_count": null, 
            "outputs": [], 
            "metadata": {}
        }
    ], 
    "nbformat": 4, 
    "metadata": {
        "kernelspec": {
            "display_name": "Python 3.6", 
            "name": "python3", 
            "language": "python"
        }, 
        "language_info": {
            "mimetype": "text/x-python", 
            "nbconvert_exporter": "python", 
            "version": "3.6.8", 
            "name": "python", 
            "pygments_lexer": "ipython3", 
            "file_extension": ".py", 
            "codemirror_mode": {
                "version": 3, 
                "name": "ipython"
            }
        }
    }
}